{
 "cells": [
  {
   "cell_type": "code",
   "execution_count": 4,
   "metadata": {},
   "outputs": [],
   "source": [
    "import pyautogui\n",
    "import pyperclip\n",
    "import time\n",
    "\n",
    "pyautogui.alert('Enquanto o código rodar,não mexa no computador')\n",
    "pyautogui.press('winleft')\n",
    "pyautogui.write('chrome')\n",
    "time.sleep(3)\n",
    "pyautogui.press('enter')\n",
    "\n",
    "time.sleep(3)\n",
    "\n",
    "pyautogui.write('https://www.gmail.com')\n",
    "pyautogui.press('enter')\n",
    "\n",
    "time.sleep(5)\n",
    "\n",
    "pyautogui.click(x=96, y=234)\n",
    "time.sleep(5)\n",
    "\n",
    "pyautogui.write('kawazakininja93@gmail.com')\n",
    "pyautogui.press('tab')\n",
    "pyperclip.copy('Convite')\n",
    "pyautogui.hotkey('ctrl', 'v')\n",
    "pyautogui.press('tab')\n",
    "\n",
    "mensagem = f'''''Seria um prazer ajudá-lo na realização dos seus objetivos!\n",
    "\n",
    "E então, aceita o convite?\n",
    "\n",
    "Se quiser reservar a sua vaga, clique no botão abaixo.\n",
    "\n",
    "Mas corra, pois não posso garantir o seu spot por muito tempo, tá legal?\n",
    "\n",
    "Espero você lá!,\n",
    "\n",
    "FLG'''\n",
    "\n",
    "pyperclip.copy(mensagem)\n",
    "pyautogui.hotkey('ctrl', 'v')\n",
    "\n",
    "pyautogui.hotkey('ctrl', 'enter')"
   ]
  }
 ],
 "metadata": {
  "kernelspec": {
   "display_name": "Python 3.9.12 ('base')",
   "language": "python",
   "name": "python3"
  },
  "language_info": {
   "codemirror_mode": {
    "name": "ipython",
    "version": 3
   },
   "file_extension": ".py",
   "mimetype": "text/x-python",
   "name": "python",
   "nbconvert_exporter": "python",
   "pygments_lexer": "ipython3",
   "version": "3.9.12"
  },
  "orig_nbformat": 4,
  "vscode": {
   "interpreter": {
    "hash": "783337f819fea5acc09ea1acd9d1467db8ed9d914477ee55454335b84262e76b"
   }
  }
 },
 "nbformat": 4,
 "nbformat_minor": 2
}
